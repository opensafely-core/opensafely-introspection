{
 "cells": [
  {
   "cell_type": "markdown",
   "id": "85f81fbd-b79f-4a96-a6ae-6603b3d8d6f6",
   "metadata": {},
   "source": [
    "# Scripted action jobs\n",
    "\n",
    "***Scripted action*** jobs are jobs that were executed on a Python, R, or Stata container.\n",
    "\n",
    "## Prerequisites"
   ]
  },
  {
   "cell_type": "code",
   "execution_count": null,
   "id": "79b1cdfe-05a1-4622-889a-72de165b5082",
   "metadata": {},
   "outputs": [],
   "source": [
    "import altair\n",
    "import pandas\n",
    "from pandas.tseries.offsets import Week\n",
    "from src import PROCESSED_DATA_DIR"
   ]
  },
  {
   "cell_type": "code",
   "execution_count": null,
   "id": "bdcde94e-a5de-4168-acba-53d6f4900337",
   "metadata": {},
   "outputs": [],
   "source": [
    "jobs = pandas.read_feather(PROCESSED_DATA_DIR / \"jobs.feather\")"
   ]
  },
  {
   "cell_type": "code",
   "execution_count": null,
   "id": "e99df02e-6f72-43e4-ac32-72fb17183497",
   "metadata": {},
   "outputs": [],
   "source": [
    "scripted_action_jobs = jobs.loc[jobs.action_type.isin([\"python\", \"r\", \"stata-mp\"])]"
   ]
  },
  {
   "cell_type": "markdown",
   "id": "e20530a7-94a8-4a7a-84bb-f71bdb2682f5",
   "metadata": {},
   "source": [
    "## Analysis\n",
    "\n",
    "Let's group by the container (`action_type`) and the week the job was created (`created_at`).\n",
    "(`weekday=0` is [Monday][1].)\n",
    "\n",
    "[1]: https://pandas.pydata.org/pandas-docs/stable/reference/api/pandas.tseries.offsets.Week.html#pandas.tseries.offsets.Week"
   ]
  },
  {
   "cell_type": "code",
   "execution_count": null,
   "id": "34aea86a-22b4-4287-943d-416ac4ae3c41",
   "metadata": {},
   "outputs": [],
   "source": [
    "num_jobs_by_action_type_by_created_at = (\n",
    "    scripted_action_jobs.groupby(\n",
    "        [\n",
    "            \"action_type\",\n",
    "            pandas.Grouper(key=\"created_at\", freq=Week(weekday=0)),\n",
    "        ]\n",
    "    )\n",
    "    .size()\n",
    "    .rename(\"num_jobs\")\n",
    ")"
   ]
  },
  {
   "cell_type": "code",
   "execution_count": null,
   "id": "59c5bdfb-1662-4484-9f34-b18dfb74a313",
   "metadata": {},
   "outputs": [],
   "source": [
    "altair.Chart(num_jobs_by_action_type_by_created_at.reset_index()).mark_line().encode(\n",
    "    x=\"created_at\",\n",
    "    y=\"num_jobs\",\n",
    "    color=\"action_type\",\n",
    "    tooltip=[\"created_at\", \"num_jobs\", \"action_type\"],\n",
    ")"
   ]
  }
 ],
 "metadata": {
  "kernelspec": {
   "display_name": "Python 3 (ipykernel)",
   "language": "python",
   "name": "python3"
  },
  "language_info": {
   "codemirror_mode": {
    "name": "ipython",
    "version": 3
   },
   "file_extension": ".py",
   "mimetype": "text/x-python",
   "name": "python",
   "nbconvert_exporter": "python",
   "pygments_lexer": "ipython3",
   "version": "3.10.2"
  }
 },
 "nbformat": 4,
 "nbformat_minor": 5
}
