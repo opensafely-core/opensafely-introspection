{
 "cells": [
  {
   "cell_type": "markdown",
   "id": "bed56b00-17df-45b6-a2d7-32c3b9533af1",
   "metadata": {
    "tags": []
   },
   "source": [
    "# Exploration\n",
    "\n",
    "## Prerequisites"
   ]
  },
  {
   "cell_type": "code",
   "execution_count": null,
   "id": "48f5058f-5406-421f-a276-f30f1813079c",
   "metadata": {},
   "outputs": [],
   "source": [
    "from IPython.display import Markdown\n",
    "import numpy\n",
    "import pandas\n",
    "from src import PROCESSED_DATA_DIR"
   ]
  },
  {
   "cell_type": "code",
   "execution_count": null,
   "id": "17e258b4-62ea-4c3d-a0e0-8739cf413fc0",
   "metadata": {},
   "outputs": [],
   "source": [
    "jobs = (\n",
    "    pandas.read_feather(PROCESSED_DATA_DIR / \"jobs.feather\")\n",
    "    .set_index(\"id\")\n",
    "    .sort_index()\n",
    ")\n",
    "assert jobs.index.is_unique"
   ]
  },
  {
   "cell_type": "code",
   "execution_count": null,
   "id": "e158db9b-bbb5-4f86-bffd-f50aa581c803",
   "metadata": {},
   "outputs": [],
   "source": [
    "Markdown(\n",
    "    f\"\"\"\n",
    "There are {len(jobs):,} jobs.\n",
    "\"\"\"\n",
    ")"
   ]
  },
  {
   "cell_type": "markdown",
   "id": "d514a2dd-d27c-4201-afa1-7d4658975660",
   "metadata": {},
   "source": [
    "## Analysis\n",
    "\n",
    "How many times have actions of each type been run?"
   ]
  },
  {
   "cell_type": "code",
   "execution_count": null,
   "id": "05571788-6884-4431-a1e4-4e9721606eb7",
   "metadata": {},
   "outputs": [],
   "source": [
    "jobs.groupby(\"action_type\").size().sort_values(ascending=False).rename(\n",
    "    \"count\"\n",
    ").to_frame()"
   ]
  },
  {
   "cell_type": "markdown",
   "id": "f510f5c7-55ca-4672-ab10-244860cce3a6",
   "metadata": {},
   "source": [
    "We'd expect an action to be run more than once per workspace.\n",
    "However, how many times is a normal number of times?\n",
    "Are some types of action run more than other types of action per workspace?"
   ]
  },
  {
   "cell_type": "code",
   "execution_count": null,
   "id": "f374b981-10fa-4498-b9ce-118157c7b9cd",
   "metadata": {},
   "outputs": [],
   "source": [
    "num_runs_per_workspace = (\n",
    "    jobs.groupby([\"workspace_id\", \"action_id\", \"action_type\"]).size().rename(\"count\")\n",
    ")"
   ]
  },
  {
   "cell_type": "code",
   "execution_count": null,
   "id": "18523552-5f31-4eeb-8005-4e8f46c208a5",
   "metadata": {},
   "outputs": [],
   "source": [
    "num_runs_per_workspace.groupby(\"action_type\").aggregate([numpy.mean, max, min])"
   ]
  }
 ],
 "metadata": {
  "kernelspec": {
   "display_name": "Python 3 (ipykernel)",
   "language": "python",
   "name": "python3"
  },
  "language_info": {
   "codemirror_mode": {
    "name": "ipython",
    "version": 3
   },
   "file_extension": ".py",
   "mimetype": "text/x-python",
   "name": "python",
   "nbconvert_exporter": "python",
   "pygments_lexer": "ipython3",
   "version": "3.10.2"
  }
 },
 "nbformat": 4,
 "nbformat_minor": 5
}
