{
 "cells": [
  {
   "cell_type": "markdown",
   "id": "bed56b00-17df-45b6-a2d7-32c3b9533af1",
   "metadata": {
    "tags": []
   },
   "source": [
    "# Exploration\n",
    "\n",
    "## Prerequisites"
   ]
  },
  {
   "cell_type": "code",
   "execution_count": null,
   "id": "48f5058f-5406-421f-a276-f30f1813079c",
   "metadata": {},
   "outputs": [],
   "source": [
    "from IPython.display import Markdown\n",
    "import pandas\n",
    "from src import PROCESSED_DATA_DIR"
   ]
  },
  {
   "cell_type": "markdown",
   "id": "1924c563-03c2-4ae8-a829-823d8da95b80",
   "metadata": {},
   "source": [
    "An *action* is an entry in a pipeline;\n",
    "it is executed in a job.\n",
    "An action's `id` is the entry's key.\n",
    "Keys are unique within pipelines but are not unique between pipelines;\n",
    "that is, keys are locally unique but not globally unique.\n",
    "Consequently, an action's primary key is a composite of `id` and `job_id`."
   ]
  },
  {
   "cell_type": "code",
   "execution_count": null,
   "id": "d877911d-feea-465a-a0ec-a431fd01862c",
   "metadata": {},
   "outputs": [],
   "source": [
    "actions = (\n",
    "    pandas.read_feather(PROCESSED_DATA_DIR / \"actions.feather\")\n",
    "    .set_index([\"id\", \"job_id\"])\n",
    "    .sort_index()\n",
    ")\n",
    "assert actions.index.is_unique"
   ]
  },
  {
   "cell_type": "markdown",
   "id": "20ec8c32-6b40-4d3d-a386-306de30e2f95",
   "metadata": {},
   "source": [
    "A *job* is an execution of an action."
   ]
  },
  {
   "cell_type": "code",
   "execution_count": null,
   "id": "17e258b4-62ea-4c3d-a0e0-8739cf413fc0",
   "metadata": {},
   "outputs": [],
   "source": [
    "jobs = (\n",
    "    pandas.read_feather(PROCESSED_DATA_DIR / \"jobs.feather\")\n",
    "    .set_index(\"id\")\n",
    "    .sort_index()\n",
    ")\n",
    "assert jobs.index.is_unique"
   ]
  },
  {
   "cell_type": "code",
   "execution_count": null,
   "id": "e158db9b-bbb5-4f86-bffd-f50aa581c803",
   "metadata": {},
   "outputs": [],
   "source": [
    "Markdown(\n",
    "    f\"\"\"\n",
    "There are {len(actions):,} actions and {len(jobs):,} jobs.\n",
    "\"\"\"\n",
    ")"
   ]
  },
  {
   "cell_type": "markdown",
   "id": "b859fe46-c5f5-4b1d-b13e-0fc9f78b3105",
   "metadata": {},
   "source": [
    "Why isn't there a one-to-one relationship between actions and jobs?\n",
    "\n",
    "Some pipelines couldn't be parsed, so there are jobs that aren't associated with actions.\n",
    "This suggests there should be more jobs than actions.\n",
    "However, one job corresponds to one or more actions because the `run_all` action has been expanded.\n",
    "This suggests there should be more actions than jobs.\n",
    "\n",
    "---\n",
    "\n",
    "An action's `pseudo_id` indicates whether the action was run explicitly (`pseudo_id == id`) or implicitly (`pseudo_id == \"run_all\"`).\n",
    "\n",
    "---"
   ]
  },
  {
   "cell_type": "markdown",
   "id": "7d660390-a183-40c8-8c82-e24b24b62665",
   "metadata": {},
   "source": [
    "A *workspace* is a collection of jobs.\n",
    "We consider a workspace to be a proxy for a study."
   ]
  },
  {
   "cell_type": "code",
   "execution_count": null,
   "id": "ffd6295a-7288-4d41-af51-e142c585c964",
   "metadata": {},
   "outputs": [],
   "source": [
    "actions = actions.join(jobs.workspace_id, on=\"job_id\")"
   ]
  },
  {
   "cell_type": "code",
   "execution_count": null,
   "id": "b8090915-fa82-42ed-9ee1-43bbca43f95b",
   "metadata": {},
   "outputs": [],
   "source": [
    "actions.head()"
   ]
  },
  {
   "cell_type": "markdown",
   "id": "d514a2dd-d27c-4201-afa1-7d4658975660",
   "metadata": {},
   "source": [
    "## Analysis\n",
    "\n",
    "How many times have actions of each type been run?"
   ]
  },
  {
   "cell_type": "code",
   "execution_count": null,
   "id": "05571788-6884-4431-a1e4-4e9721606eb7",
   "metadata": {},
   "outputs": [],
   "source": [
    "actions.groupby(\"type\").size().sort_values(ascending=False).rename(\"count\").to_frame()"
   ]
  },
  {
   "cell_type": "markdown",
   "id": "6bfc2f9d-e2d8-4eb7-8c8a-c1db7f06417a",
   "metadata": {},
   "source": [
    "How many times have actions of each type been run, per workspace?\n",
    "\n",
    "* `count` is the number of workspaces within which the type of action has been run"
   ]
  },
  {
   "cell_type": "code",
   "execution_count": null,
   "id": "943c4abe-b317-4e10-ac08-740614714928",
   "metadata": {},
   "outputs": [],
   "source": [
    "actions.groupby([\"workspace_id\", \"type\"]).size().groupby(\"type\").describe()"
   ]
  }
 ],
 "metadata": {
  "kernelspec": {
   "display_name": "Python 3 (ipykernel)",
   "language": "python",
   "name": "python3"
  },
  "language_info": {
   "codemirror_mode": {
    "name": "ipython",
    "version": 3
   },
   "file_extension": ".py",
   "mimetype": "text/x-python",
   "name": "python",
   "nbconvert_exporter": "python",
   "pygments_lexer": "ipython3",
   "version": "3.10.2"
  }
 },
 "nbformat": 4,
 "nbformat_minor": 5
}
